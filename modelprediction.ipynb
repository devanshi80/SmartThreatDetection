{
 "cells": [
  {
   "cell_type": "markdown",
   "id": "c3d92228",
   "metadata": {},
   "source": [
    "# Botnet Detection with Machine Learning\n",
    "This notebook walks through a full ML pipeline for classifying network traffic as **BENIGN** or **Bot**.\n",
    "- Includes 5 models, hyperparameter tuning, and a voting classifier.\n",
    "- Visualizations and performance metrics are used throughout.\n",
    "\n",
    "**Note:** Dataset is not included due to size. Please upload it manually and update file path in code."
   ]
  },
  {
   "cell_type": "code",
   "execution_count": 1,
   "id": "24416c2c-64ab-4bc2-a664-c747eb5bc1e7",
   "metadata": {},
   "outputs": [],
   "source": [
    "from sklearn.linear_model import LogisticRegression\n",
    "from sklearn.ensemble import RandomForestClassifier\n",
    "from sklearn.svm import SVC\n",
    "from xgboost import XGBClassifier\n",
    "from sklearn.neural_network import MLPClassifier\n",
    "from sklearn.model_selection import train_test_split\n",
    "from sklearn.model_selection import GridSearchCV\n",
    "\n",
    "\n",
    "from sklearn.metrics import classification_report, confusion_matrix\n",
    "import seaborn as sns\n",
    "import matplotlib.pyplot as plt\n",
    "import warnings\n",
    "warnings.filterwarnings('ignore')\n"
   ]
  },
  {
   "cell_type": "code",
   "execution_count": 2,
   "id": "c7a284af-9901-40c0-af52-e9ded996f44b",
   "metadata": {},
   "outputs": [
    {
     "name": "stdout",
     "output_type": "stream",
     "text": [
      "Shape of dataset: (191033, 79)\n"
     ]
    },
    {
     "data": {
      "text/html": [
       "<div>\n",
       "<style scoped>\n",
       "    .dataframe tbody tr th:only-of-type {\n",
       "        vertical-align: middle;\n",
       "    }\n",
       "\n",
       "    .dataframe tbody tr th {\n",
       "        vertical-align: top;\n",
       "    }\n",
       "\n",
       "    .dataframe thead th {\n",
       "        text-align: right;\n",
       "    }\n",
       "</style>\n",
       "<table border=\"1\" class=\"dataframe\">\n",
       "  <thead>\n",
       "    <tr style=\"text-align: right;\">\n",
       "      <th></th>\n",
       "      <th>Destination Port</th>\n",
       "      <th>Flow Duration</th>\n",
       "      <th>Total Fwd Packets</th>\n",
       "      <th>Total Backward Packets</th>\n",
       "      <th>Total Length of Fwd Packets</th>\n",
       "      <th>Total Length of Bwd Packets</th>\n",
       "      <th>Fwd Packet Length Max</th>\n",
       "      <th>Fwd Packet Length Min</th>\n",
       "      <th>Fwd Packet Length Mean</th>\n",
       "      <th>Fwd Packet Length Std</th>\n",
       "      <th>...</th>\n",
       "      <th>min_seg_size_forward</th>\n",
       "      <th>Active Mean</th>\n",
       "      <th>Active Std</th>\n",
       "      <th>Active Max</th>\n",
       "      <th>Active Min</th>\n",
       "      <th>Idle Mean</th>\n",
       "      <th>Idle Std</th>\n",
       "      <th>Idle Max</th>\n",
       "      <th>Idle Min</th>\n",
       "      <th>Label</th>\n",
       "    </tr>\n",
       "  </thead>\n",
       "  <tbody>\n",
       "    <tr>\n",
       "      <th>0</th>\n",
       "      <td>3268</td>\n",
       "      <td>112740690</td>\n",
       "      <td>32</td>\n",
       "      <td>16</td>\n",
       "      <td>6448</td>\n",
       "      <td>1152</td>\n",
       "      <td>403</td>\n",
       "      <td>0</td>\n",
       "      <td>201.5</td>\n",
       "      <td>204.724205</td>\n",
       "      <td>...</td>\n",
       "      <td>32</td>\n",
       "      <td>3.594286e+02</td>\n",
       "      <td>1.199802e+01</td>\n",
       "      <td>380</td>\n",
       "      <td>343</td>\n",
       "      <td>16100000.0</td>\n",
       "      <td>4.988048e+05</td>\n",
       "      <td>16400000</td>\n",
       "      <td>15400000</td>\n",
       "      <td>BENIGN</td>\n",
       "    </tr>\n",
       "    <tr>\n",
       "      <th>1</th>\n",
       "      <td>389</td>\n",
       "      <td>112740560</td>\n",
       "      <td>32</td>\n",
       "      <td>16</td>\n",
       "      <td>6448</td>\n",
       "      <td>5056</td>\n",
       "      <td>403</td>\n",
       "      <td>0</td>\n",
       "      <td>201.5</td>\n",
       "      <td>204.724205</td>\n",
       "      <td>...</td>\n",
       "      <td>32</td>\n",
       "      <td>3.202857e+02</td>\n",
       "      <td>1.574499e+01</td>\n",
       "      <td>330</td>\n",
       "      <td>285</td>\n",
       "      <td>16100000.0</td>\n",
       "      <td>4.987937e+05</td>\n",
       "      <td>16400000</td>\n",
       "      <td>15400000</td>\n",
       "      <td>BENIGN</td>\n",
       "    </tr>\n",
       "    <tr>\n",
       "      <th>2</th>\n",
       "      <td>0</td>\n",
       "      <td>113757377</td>\n",
       "      <td>545</td>\n",
       "      <td>0</td>\n",
       "      <td>0</td>\n",
       "      <td>0</td>\n",
       "      <td>0</td>\n",
       "      <td>0</td>\n",
       "      <td>0.0</td>\n",
       "      <td>0.000000</td>\n",
       "      <td>...</td>\n",
       "      <td>0</td>\n",
       "      <td>9.361829e+06</td>\n",
       "      <td>7.324646e+06</td>\n",
       "      <td>18900000</td>\n",
       "      <td>19</td>\n",
       "      <td>12200000.0</td>\n",
       "      <td>6.935824e+06</td>\n",
       "      <td>20800000</td>\n",
       "      <td>5504997</td>\n",
       "      <td>BENIGN</td>\n",
       "    </tr>\n",
       "    <tr>\n",
       "      <th>3</th>\n",
       "      <td>5355</td>\n",
       "      <td>100126</td>\n",
       "      <td>22</td>\n",
       "      <td>0</td>\n",
       "      <td>616</td>\n",
       "      <td>0</td>\n",
       "      <td>28</td>\n",
       "      <td>28</td>\n",
       "      <td>28.0</td>\n",
       "      <td>0.000000</td>\n",
       "      <td>...</td>\n",
       "      <td>32</td>\n",
       "      <td>0.000000e+00</td>\n",
       "      <td>0.000000e+00</td>\n",
       "      <td>0</td>\n",
       "      <td>0</td>\n",
       "      <td>0.0</td>\n",
       "      <td>0.000000e+00</td>\n",
       "      <td>0</td>\n",
       "      <td>0</td>\n",
       "      <td>BENIGN</td>\n",
       "    </tr>\n",
       "    <tr>\n",
       "      <th>4</th>\n",
       "      <td>0</td>\n",
       "      <td>54760</td>\n",
       "      <td>4</td>\n",
       "      <td>0</td>\n",
       "      <td>0</td>\n",
       "      <td>0</td>\n",
       "      <td>0</td>\n",
       "      <td>0</td>\n",
       "      <td>0.0</td>\n",
       "      <td>0.000000</td>\n",
       "      <td>...</td>\n",
       "      <td>0</td>\n",
       "      <td>0.000000e+00</td>\n",
       "      <td>0.000000e+00</td>\n",
       "      <td>0</td>\n",
       "      <td>0</td>\n",
       "      <td>0.0</td>\n",
       "      <td>0.000000e+00</td>\n",
       "      <td>0</td>\n",
       "      <td>0</td>\n",
       "      <td>BENIGN</td>\n",
       "    </tr>\n",
       "  </tbody>\n",
       "</table>\n",
       "<p>5 rows × 79 columns</p>\n",
       "</div>"
      ],
      "text/plain": [
       "    Destination Port   Flow Duration   Total Fwd Packets  \\\n",
       "0               3268       112740690                  32   \n",
       "1                389       112740560                  32   \n",
       "2                  0       113757377                 545   \n",
       "3               5355          100126                  22   \n",
       "4                  0           54760                   4   \n",
       "\n",
       "    Total Backward Packets  Total Length of Fwd Packets  \\\n",
       "0                       16                         6448   \n",
       "1                       16                         6448   \n",
       "2                        0                            0   \n",
       "3                        0                          616   \n",
       "4                        0                            0   \n",
       "\n",
       "    Total Length of Bwd Packets   Fwd Packet Length Max  \\\n",
       "0                          1152                     403   \n",
       "1                          5056                     403   \n",
       "2                             0                       0   \n",
       "3                             0                      28   \n",
       "4                             0                       0   \n",
       "\n",
       "    Fwd Packet Length Min   Fwd Packet Length Mean   Fwd Packet Length Std  \\\n",
       "0                       0                    201.5              204.724205   \n",
       "1                       0                    201.5              204.724205   \n",
       "2                       0                      0.0                0.000000   \n",
       "3                      28                     28.0                0.000000   \n",
       "4                       0                      0.0                0.000000   \n",
       "\n",
       "   ...   min_seg_size_forward   Active Mean    Active Std   Active Max  \\\n",
       "0  ...                     32  3.594286e+02  1.199802e+01          380   \n",
       "1  ...                     32  3.202857e+02  1.574499e+01          330   \n",
       "2  ...                      0  9.361829e+06  7.324646e+06     18900000   \n",
       "3  ...                     32  0.000000e+00  0.000000e+00            0   \n",
       "4  ...                      0  0.000000e+00  0.000000e+00            0   \n",
       "\n",
       "    Active Min   Idle Mean      Idle Std   Idle Max   Idle Min   Label  \n",
       "0          343  16100000.0  4.988048e+05   16400000   15400000  BENIGN  \n",
       "1          285  16100000.0  4.987937e+05   16400000   15400000  BENIGN  \n",
       "2           19  12200000.0  6.935824e+06   20800000    5504997  BENIGN  \n",
       "3            0         0.0  0.000000e+00          0          0  BENIGN  \n",
       "4            0         0.0  0.000000e+00          0          0  BENIGN  \n",
       "\n",
       "[5 rows x 79 columns]"
      ]
     },
     "execution_count": 2,
     "metadata": {},
     "output_type": "execute_result"
    }
   ],
   "source": [
    "import pandas as pd\n",
    "import numpy as np\n",
    "import matplotlib.pyplot as plt\n",
    "import seaborn as sns\n",
    "\n",
    "# Set some visual settings\n",
    "sns.set(style=\"whitegrid\")\n",
    "%matplotlib inline\n",
    "\n",
    "# Load the dataset\n",
    "df = pd.read_csv(\"Friday-WorkingHours-Morning.pcap_ISCX.csv\")\n",
    "\n",
    "# Preview the shape\n",
    "print(\"Shape of dataset:\", df.shape)\n",
    "\n",
    "# Show first 5 rows\n",
    "df.head()\n"
   ]
  },
  {
   "cell_type": "code",
   "execution_count": 3,
   "id": "aaa097a8-fa3f-4046-81e0-b962fb39b2f4",
   "metadata": {},
   "outputs": [],
   "source": [
    "df.columns = df.columns.str.strip()#cleaning coloumns\n"
   ]
  },
  {
   "cell_type": "code",
   "execution_count": 4,
   "id": "8ccb97f1-eaa9-4665-b195-dd154581e176",
   "metadata": {},
   "outputs": [
    {
     "name": "stdout",
     "output_type": "stream",
     "text": [
      "['Destination Port', 'Flow Duration', 'Total Fwd Packets', 'Total Backward Packets', 'Total Length of Fwd Packets', 'Total Length of Bwd Packets', 'Fwd Packet Length Max', 'Fwd Packet Length Min', 'Fwd Packet Length Mean', 'Fwd Packet Length Std', 'Bwd Packet Length Max', 'Bwd Packet Length Min', 'Bwd Packet Length Mean', 'Bwd Packet Length Std', 'Flow Bytes/s', 'Flow Packets/s', 'Flow IAT Mean', 'Flow IAT Std', 'Flow IAT Max', 'Flow IAT Min', 'Fwd IAT Total', 'Fwd IAT Mean', 'Fwd IAT Std', 'Fwd IAT Max', 'Fwd IAT Min', 'Bwd IAT Total', 'Bwd IAT Mean', 'Bwd IAT Std', 'Bwd IAT Max', 'Bwd IAT Min', 'Fwd PSH Flags', 'Bwd PSH Flags', 'Fwd URG Flags', 'Bwd URG Flags', 'Fwd Header Length', 'Bwd Header Length', 'Fwd Packets/s', 'Bwd Packets/s', 'Min Packet Length', 'Max Packet Length', 'Packet Length Mean', 'Packet Length Std', 'Packet Length Variance', 'FIN Flag Count', 'SYN Flag Count', 'RST Flag Count', 'PSH Flag Count', 'ACK Flag Count', 'URG Flag Count', 'CWE Flag Count', 'ECE Flag Count', 'Down/Up Ratio', 'Average Packet Size', 'Avg Fwd Segment Size', 'Avg Bwd Segment Size', 'Fwd Header Length.1', 'Fwd Avg Bytes/Bulk', 'Fwd Avg Packets/Bulk', 'Fwd Avg Bulk Rate', 'Bwd Avg Bytes/Bulk', 'Bwd Avg Packets/Bulk', 'Bwd Avg Bulk Rate', 'Subflow Fwd Packets', 'Subflow Fwd Bytes', 'Subflow Bwd Packets', 'Subflow Bwd Bytes', 'Init_Win_bytes_forward', 'Init_Win_bytes_backward', 'act_data_pkt_fwd', 'min_seg_size_forward', 'Active Mean', 'Active Std', 'Active Max', 'Active Min', 'Idle Mean', 'Idle Std', 'Idle Max', 'Idle Min', 'Label']\n"
     ]
    }
   ],
   "source": [
    "print(df.columns.tolist())  # confirm 'Label' is now clean\n"
   ]
  },
  {
   "cell_type": "code",
   "execution_count": 5,
   "id": "506af8a4-fc11-48e3-8b80-5109b5d43935",
   "metadata": {},
   "outputs": [
    {
     "data": {
      "text/plain": [
       "Label\n",
       "BENIGN    189067\n",
       "Bot         1966\n",
       "Name: count, dtype: int64"
      ]
     },
     "execution_count": 5,
     "metadata": {},
     "output_type": "execute_result"
    }
   ],
   "source": [
    "df['Label'].value_counts()\n"
   ]
  },
  {
   "cell_type": "code",
   "execution_count": 6,
   "id": "1133591c-a7dd-4b18-8b7f-c2aad8e636a3",
   "metadata": {},
   "outputs": [
    {
     "name": "stdout",
     "output_type": "stream",
     "text": [
      "Total Null values: 28\n",
      "Total Infinite values: 216\n"
     ]
    }
   ],
   "source": [
    "import numpy as np\n",
    "# Drop inf and nan values to ensure system doesnt crash\n",
    "print(\"Total Null values:\", df.isnull().sum().sum())\n",
    "print(\"Total Infinite values:\", np.isinf(df.select_dtypes(include=[np.number])).sum().sum())\n"
   ]
  },
  {
   "cell_type": "code",
   "execution_count": 7,
   "id": "34d7c165-d291-4433-9639-ba7d7f615890",
   "metadata": {},
   "outputs": [],
   "source": [
    "df.replace([np.inf, -np.inf], np.nan, inplace=True)\n"
   ]
  },
  {
   "cell_type": "code",
   "execution_count": 8,
   "id": "7fa22b0e-81f3-4f39-9343-6e9b9bbf2bd9",
   "metadata": {},
   "outputs": [
    {
     "name": "stdout",
     "output_type": "stream",
     "text": [
      "After replacement — Null values: 244\n"
     ]
    }
   ],
   "source": [
    "print(\"After replacement — Null values:\", df.isnull().sum().sum())\n"
   ]
  },
  {
   "cell_type": "code",
   "execution_count": 9,
   "id": "9922623c-95bb-43e3-a04d-e74a3a52c975",
   "metadata": {},
   "outputs": [
    {
     "name": "stdout",
     "output_type": "stream",
     "text": [
      "Shape after cleaning: (190911, 79)\n"
     ]
    }
   ],
   "source": [
    "df.dropna(inplace=True)\n",
    "print(\"Shape after cleaning:\", df.shape)\n"
   ]
  },
  {
   "cell_type": "code",
   "execution_count": 10,
   "id": "51d31689-b193-4ef2-bf55-e06edf939c8d",
   "metadata": {},
   "outputs": [],
   "source": [
    "# Separate Features and Labels\n",
    "X = df.drop(columns=['Label'])\n",
    "y = df['Label']\n",
    "from sklearn.preprocessing import LabelEncoder\n",
    "\n",
    "le = LabelEncoder()\n",
    "y = le.fit_transform(y)  # BENIGN = 0, Bot = 1\n",
    "# Split dataset to train and test\n",
    "from sklearn.model_selection import train_test_split\n",
    "\n",
    "X_train, X_test, y_train, y_test = train_test_split(\n",
    "    X, y, test_size=0.2, random_state=42, stratify=y)\n",
    "# Scaling the features\n",
    "from sklearn.preprocessing import StandardScaler\n",
    "\n",
    "scaler = StandardScaler()\n",
    "X_train = scaler.fit_transform(X_train)\n",
    "X_test = scaler.transform(X_test)\n"
   ]
  },
  {
   "cell_type": "code",
   "execution_count": 11,
   "id": "9c70b558-e39a-4c7f-bd77-5808642ed662",
   "metadata": {},
   "outputs": [],
   "source": [
    "##helper function\n",
    "def evaluate_model(name, model, X_train, y_train, X_test, y_test):\n",
    "    model.fit(X_train, y_train)#train the model to learn from the input data to find patterns\n",
    "    y_pred = model.predict(X_test)#use the trained model to predict the label on the test data\n",
    "\n",
    "    print(f\"\\n📊 {name} Classification Report:\")\n",
    "    print(classification_report(y_test, y_pred, target_names=['BENIGN', 'Bot']))#Displays precision, recall, f1-score, and support.\n",
    "\n",
    "    cm = confusion_matrix(y_test, y_pred)#confusion matrix\n",
    "    sns.heatmap(cm, annot=True, fmt=\"d\", cmap=\"Blues\",\n",
    "                xticklabels=['BENIGN', 'Bot'],\n",
    "                yticklabels=['BENIGN', 'Bot'])\n",
    "    plt.title(f\"{name} - Confusion Matrix\")\n",
    "    plt.xlabel(\"Predicted\")\n",
    "    plt.ylabel(\"Actual\")\n",
    "    plt.show()\n"
   ]
  },
  {
   "cell_type": "code",
   "execution_count": 12,
   "id": "f10ab672-b216-4866-956f-fb3cdbb64354",
   "metadata": {},
   "outputs": [
    {
     "name": "stdout",
     "output_type": "stream",
     "text": [
      "\n",
      "📊 Logistic Regression Classification Report:\n",
      "              precision    recall  f1-score   support\n",
      "\n",
      "      BENIGN       1.00      1.00      1.00     37792\n",
      "         Bot       0.80      0.61      0.69       391\n",
      "\n",
      "    accuracy                           0.99     38183\n",
      "   macro avg       0.90      0.80      0.84     38183\n",
      "weighted avg       0.99      0.99      0.99     38183\n",
      "\n"
     ]
    },
    {
     "data": {
      "image/png": "[encoded data removed]",
      "text/plain": [
       "<Figure size 640x480 with 2 Axes>"
      ]
     },
     "metadata": {},
     "output_type": "display_data"
    }
   ],
   "source": [
    "# Logistic regression\n",
    "lr = LogisticRegression()\n",
    "evaluate_model(\"Logistic Regression\", lr, X_train, y_train, X_test, y_test)\n"
   ]
  },
  {
   "cell_type": "code",
   "execution_count": 13,
   "id": "32b467ee-2f62-4c30-878e-4620586746ea",
   "metadata": {},
   "outputs": [
    {
     "name": "stdout",
     "output_type": "stream",
     "text": [
      "\n",
      "📊 Random Forest Classification Report:\n",
      "              precision    recall  f1-score   support\n",
      "\n",
      "      BENIGN       1.00      1.00      1.00     37792\n",
      "         Bot       0.99      0.96      0.98       391\n",
      "\n",
      "    accuracy                           1.00     38183\n",
      "   macro avg       1.00      0.98      0.99     38183\n",
      "weighted avg       1.00      1.00      1.00     38183\n",
      "\n"
     ]
    },
    {
     "data": {
      "image/png": "[encoded data removed]",
      "text/plain": [
       "<Figure size 640x480 with 2 Axes>"
      ]
     },
     "metadata": {},
     "output_type": "display_data"
    }
   ],
   "source": [
    "# Random forest\n",
    "rf = RandomForestClassifier()\n",
    "evaluate_model(\"Random Forest\", rf, X_train, y_train, X_test, y_test)\n"
   ]
  },
  {
   "cell_type": "code",
   "execution_count": 14,
   "id": "7b0ecbea-6895-41ff-a616-de5037006a32",
   "metadata": {},
   "outputs": [
    {
     "name": "stdout",
     "output_type": "stream",
     "text": [
      "\n",
      "📊 Support Vector Machine Classification Report:\n",
      "              precision    recall  f1-score   support\n",
      "\n",
      "      BENIGN       1.00      1.00      1.00     37792\n",
      "         Bot       0.91      0.61      0.73       391\n",
      "\n",
      "    accuracy                           1.00     38183\n",
      "   macro avg       0.95      0.81      0.86     38183\n",
      "weighted avg       1.00      1.00      0.99     38183\n",
      "\n"
     ]
    },
    {
     "data": {
      "image/png": "[encoded data removed]",
      "text/plain": [
       "<Figure size 640x480 with 2 Axes>"
      ]
     },
     "metadata": {},
     "output_type": "display_data"
    }
   ],
   "source": [
    "# Support Vector Machine (SVM)\n",
    "svm = SVC()\n",
    "evaluate_model(\"Support Vector Machine\", svm, X_train, y_train, X_test, y_test)\n"
   ]
  },
  {
   "cell_type": "code",
   "execution_count": 15,
   "id": "e7bd7052-686f-4e1a-be9f-61df00c0ffa4",
   "metadata": {},
   "outputs": [
    {
     "name": "stdout",
     "output_type": "stream",
     "text": [
      "\n",
      "📊 XGBoost Classification Report:\n",
      "              precision    recall  f1-score   support\n",
      "\n",
      "      BENIGN       1.00      1.00      1.00     37792\n",
      "         Bot       0.99      0.99      0.99       391\n",
      "\n",
      "    accuracy                           1.00     38183\n",
      "   macro avg       0.99      0.99      0.99     38183\n",
      "weighted avg       1.00      1.00      1.00     38183\n",
      "\n"
     ]
    },
    {
     "data": {
      "image/png": "[encoded data removed]",
      "text/plain": [
       "<Figure size 640x480 with 2 Axes>"
      ]
     },
     "metadata": {},
     "output_type": "display_data"
    }
   ],
   "source": [
    "# XGBoost\n",
    "xgb = XGBClassifier(use_label_encoder=False, eval_metric='logloss')\n",
    "evaluate_model(\"XGBoost\", xgb, X_train, y_train, X_test, y_test)\n"
   ]
  },
  {
   "cell_type": "code",
   "execution_count": 16,
   "id": "9022a0a4-f3db-43da-be17-9b8a02c6fcb1",
   "metadata": {},
   "outputs": [
    {
     "name": "stdout",
     "output_type": "stream",
     "text": [
      "\n",
      "📊 MLP (Neural Network) Classification Report:\n",
      "              precision    recall  f1-score   support\n",
      "\n",
      "      BENIGN       1.00      1.00      1.00     37792\n",
      "         Bot       0.94      0.71      0.81       391\n",
      "\n",
      "    accuracy                           1.00     38183\n",
      "   macro avg       0.97      0.85      0.90     38183\n",
      "weighted avg       1.00      1.00      1.00     38183\n",
      "\n"
     ]
    },
    {
     "data": {
      "image/png": "[encoded data removed]",
      "text/plain": [
       "<Figure size 640x480 with 2 Axes>"
      ]
     },
     "metadata": {},
     "output_type": "display_data"
    }
   ],
   "source": [
    "# Multilayer Perceptron (MLP)\n",
    "mlp = MLPClassifier(hidden_layer_sizes=(100,100), max_iter=300)\n",
    "evaluate_model(\"MLP (Neural Network)\", mlp, X_train, y_train, X_test, y_test)\n"
   ]
  },
  {
   "cell_type": "code",
   "execution_count": 17,
   "id": "47e7927a-7832-4848-aad6-f620462e63e6",
   "metadata": {},
   "outputs": [],
   "source": [
    "# To store i tabular form for comparisons\n",
    "from sklearn.metrics import accuracy_score, precision_score, recall_score, f1_score\n",
    "\n",
    "results = []\n",
    "\n",
    "def evaluate_and_store(name, model, X_train, y_train, X_test, y_test):\n",
    "    model.fit(X_train, y_train)\n",
    "    y_pred = model.predict(X_test)\n",
    "\n",
    "    acc = accuracy_score(y_test, y_pred)\n",
    "    prec = precision_score(y_test, y_pred, pos_label= 1)\n",
    "    rec = recall_score(y_test, y_pred, pos_label= 1)\n",
    "    f1 = f1_score(y_test, y_pred, pos_label= 1)\n",
    "\n",
    "    results.append({\n",
    "        'Model': name,\n",
    "        'Accuracy': acc,\n",
    "        'Precision': prec,\n",
    "        'Recall': rec,\n",
    "        'F1 Score': f1\n",
    "    })\n",
    "\n",
    "    print(f\"\\n{name} evaluation complete.\")\n"
   ]
  },
  {
   "cell_type": "code",
   "execution_count": 18,
   "id": "6465157a-8eeb-4b0c-9d93-936208c9e3dd",
   "metadata": {},
   "outputs": [
    {
     "name": "stdout",
     "output_type": "stream",
     "text": [
      "\n",
      "Logistic Regression evaluation complete.\n",
      "\n",
      "Random Forest evaluation complete.\n",
      "\n",
      "SVM evaluation complete.\n",
      "\n",
      "XGBoost evaluation complete.\n",
      "\n",
      "MLP evaluation complete.\n"
     ]
    }
   ],
   "source": [
    "# Clear previous results\n",
    "results = []\n",
    "\n",
    "evaluate_and_store(\"Logistic Regression\", LogisticRegression(), X_train, y_train, X_test, y_test)\n",
    "evaluate_and_store(\"Random Forest\", RandomForestClassifier(), X_train, y_train, X_test, y_test)\n",
    "evaluate_and_store(\"SVM\", SVC(), X_train, y_train, X_test, y_test)\n",
    "evaluate_and_store(\"XGBoost\", XGBClassifier(use_label_encoder=False, eval_metric='logloss'), X_train, y_train, X_test, y_test)\n",
    "evaluate_and_store(\"MLP\", MLPClassifier(hidden_layer_sizes=(100,100), max_iter=300), X_train, y_train, X_test, y_test)\n"
   ]
  },
  {
   "cell_type": "code",
   "execution_count": 19,
   "id": "d52ba5e2-e82e-4ea5-9e7f-1d5e50a8a2ec",
   "metadata": {},
   "outputs": [
    {
     "data": {
      "text/html": [
       "<div>\n",
       "<style scoped>\n",
       "    .dataframe tbody tr th:only-of-type {\n",
       "        vertical-align: middle;\n",
       "    }\n",
       "\n",
       "    .dataframe tbody tr th {\n",
       "        vertical-align: top;\n",
       "    }\n",
       "\n",
       "    .dataframe thead th {\n",
       "        text-align: right;\n",
       "    }\n",
       "</style>\n",
       "<table border=\"1\" class=\"dataframe\">\n",
       "  <thead>\n",
       "    <tr style=\"text-align: right;\">\n",
       "      <th></th>\n",
       "      <th>Accuracy</th>\n",
       "      <th>Precision</th>\n",
       "      <th>Recall</th>\n",
       "      <th>F1 Score</th>\n",
       "    </tr>\n",
       "    <tr>\n",
       "      <th>Model</th>\n",
       "      <th></th>\n",
       "      <th></th>\n",
       "      <th></th>\n",
       "      <th></th>\n",
       "    </tr>\n",
       "  </thead>\n",
       "  <tbody>\n",
       "    <tr>\n",
       "      <th>Logistic Regression</th>\n",
       "      <td>0.9944</td>\n",
       "      <td>0.7967</td>\n",
       "      <td>0.6113</td>\n",
       "      <td>0.6918</td>\n",
       "    </tr>\n",
       "    <tr>\n",
       "      <th>Random Forest</th>\n",
       "      <td>0.9995</td>\n",
       "      <td>0.9947</td>\n",
       "      <td>0.9565</td>\n",
       "      <td>0.9752</td>\n",
       "    </tr>\n",
       "    <tr>\n",
       "      <th>SVM</th>\n",
       "      <td>0.9954</td>\n",
       "      <td>0.9053</td>\n",
       "      <td>0.6113</td>\n",
       "      <td>0.7298</td>\n",
       "    </tr>\n",
       "    <tr>\n",
       "      <th>XGBoost</th>\n",
       "      <td>0.9998</td>\n",
       "      <td>0.9898</td>\n",
       "      <td>0.9898</td>\n",
       "      <td>0.9898</td>\n",
       "    </tr>\n",
       "    <tr>\n",
       "      <th>MLP</th>\n",
       "      <td>0.9966</td>\n",
       "      <td>0.9677</td>\n",
       "      <td>0.6905</td>\n",
       "      <td>0.8060</td>\n",
       "    </tr>\n",
       "  </tbody>\n",
       "</table>\n",
       "</div>"
      ],
      "text/plain": [
       "                     Accuracy  Precision  Recall  F1 Score\n",
       "Model                                                     \n",
       "Logistic Regression    0.9944     0.7967  0.6113    0.6918\n",
       "Random Forest          0.9995     0.9947  0.9565    0.9752\n",
       "SVM                    0.9954     0.9053  0.6113    0.7298\n",
       "XGBoost                0.9998     0.9898  0.9898    0.9898\n",
       "MLP                    0.9966     0.9677  0.6905    0.8060"
      ]
     },
     "execution_count": 19,
     "metadata": {},
     "output_type": "execute_result"
    }
   ],
   "source": [
    "performance_df = pd.DataFrame(results)\n",
    "performance_df.set_index('Model', inplace=True)\n",
    "performance_df.round(4)  # round for cleaner display\n"
   ]
  },
  {
   "cell_type": "code",
   "execution_count": 20,
   "id": "8c671439-ccb9-4f72-adc2-ee2a50426cf3",
   "metadata": {},
   "outputs": [
    {
     "data": {
      "image/png": "[encoded data removed]",
      "text/plain": [
       "<Figure size 1000x600 with 1 Axes>"
      ]
     },
     "metadata": {},
     "output_type": "display_data"
    }
   ],
   "source": [
    "performance_df.plot(kind='bar', figsize=(10,6), colormap='Set2', ylim=(0, 1))\n",
    "plt.title(\"Model Performance Comparison\")\n",
    "plt.ylabel(\"Score\")\n",
    "plt.xticks(rotation=45)\n",
    "plt.grid(axis='y')\n",
    "plt.tight_layout()\n",
    "plt.show()\n"
   ]
  },
  {
   "cell_type": "code",
   "execution_count": 21,
   "id": "c90e5e4e-daf3-4885-9ace-0a6424f29d77",
   "metadata": {},
   "outputs": [
    {
     "name": "stdout",
     "output_type": "stream",
     "text": [
      "Fitting 3 folds for each of 12 candidates, totalling 36 fits\n",
      "🔍 Best parameters (RF): {'max_depth': None, 'min_samples_split': 2, 'n_estimators': 100}\n",
      "\n",
      "Random Forest (Tuned) evaluation complete.\n"
     ]
    }
   ],
   "source": [
    "# Hyperparameter tuning for random forest using Grid Search with Cross-Validation\n",
    "rf_params = {\n",
    "    'n_estimators': [100, 200],#number of trees in the forest\n",
    "    'max_depth': [10, 20, None],# maximum depth of the tree\n",
    "    'min_samples_split': [2, 5]#minimum number of samples used to split a node\n",
    "}\n",
    "# 12 combinations to try\n",
    "# Using 3 fold cv to estimate performance\n",
    "grid_rf = GridSearchCV(RandomForestClassifier(random_state=42), rf_params, cv=3,\n",
    "                       scoring='f1'#scored using f1 logs\n",
    "                       ,verbose=1,#prints progress logs\n",
    "                       n_jobs=-1 #uses all CPU cores to speed up training\n",
    "                      )\n",
    "grid_rf.fit(X_train, y_train)\n",
    "\n",
    "print(\"🔍 Best parameters (RF):\", grid_rf.best_params_)\n",
    "evaluate_and_store(\"Random Forest (Tuned)\", grid_rf.best_estimator_, X_train, y_train, X_test, y_test)\n"
   ]
  },
  {
   "cell_type": "code",
   "execution_count": 22,
   "id": "98649c17-d3c7-4c75-b1c3-bf147e23f231",
   "metadata": {},
   "outputs": [
    {
     "name": "stdout",
     "output_type": "stream",
     "text": [
      "Fitting 3 folds for each of 8 candidates, totalling 24 fits\n",
      "🔍 Best parameters (XGB): {'learning_rate': 0.05, 'max_depth': 6, 'n_estimators': 200}\n",
      "\n",
      "XGBoost (Tuned) evaluation complete.\n"
     ]
    }
   ],
   "source": [
    "# Hyperparameter tuning for xg boost\n",
    "\n",
    "xgb_params = {\n",
    "    'n_estimators': [100, 200],\n",
    "    'max_depth': [3, 6],\n",
    "    'learning_rate': [0.05, 0.1] #How quickly the model learns\n",
    "}\n",
    "\n",
    "grid_xgb = GridSearchCV(XGBClassifier(eval_metric='logloss'), xgb_params, cv=3, \n",
    "                        scoring='f1'\n",
    "                        , verbose=1,\n",
    "                        n_jobs=-1)\n",
    "grid_xgb.fit(X_train, y_train)#trains 24 models\n",
    "\n",
    "print(\"🔍 Best parameters (XGB):\", grid_xgb.best_params_)\n",
    "evaluate_and_store(\"XGBoost (Tuned)\", grid_xgb.best_estimator_, X_train, y_train, X_test, y_test)\n"
   ]
  },
  {
   "cell_type": "code",
   "execution_count": 23,
   "id": "9e2ae194-8df6-4a2b-b8cd-617b93426d94",
   "metadata": {},
   "outputs": [
    {
     "ename": "SyntaxError",
     "evalue": "invalid syntax (3976519448.py, line 14)",
     "output_type": "error",
     "traceback": [
      "  \u001b[36mCell\u001b[39m\u001b[36m \u001b[39m\u001b[32mIn[23]\u001b[39m\u001b[32m, line 14\u001b[39m\n\u001b[31m    \u001b[39m\u001b[31m'activation': ['relu', 'tanh'],,#Activation function for neurons\u001b[39m\n                                   ^\n\u001b[31mSyntaxError\u001b[39m\u001b[31m:\u001b[39m invalid syntax\n"
     ]
    }
   ],
   "source": [
    "from sklearn.model_selection import GridSearchCV\n",
    "from sklearn.linear_model import LogisticRegression\n",
    "from sklearn.neural_network import MLPClassifier\n",
    "\n",
    "# Define parameter grids\n",
    "param_grids = {\n",
    "    \"Logistic Regression\": {\n",
    "        'C': [0.01, 0.1, 1, 10],#Regularization strength (inverse; lower = stronger regularization)\n",
    "        'penalty': ['l2'],#Only 'l2' is supported by both solvers\n",
    "        'solver': ['liblinear', 'lbfgs']# Optimization algorithm to use\n",
    "    },\n",
    "    \"MLP\": {\n",
    "        'hidden_layer_sizes': [(50,), (100,), (100, 100)],#Number of neurons in each layer\n",
    "        'activation': ['relu', 'tanh'],,#Activation function for neurons\n",
    "        'solver': ['adam'],#Optimizer (usually 'adam' for performance)\n",
    "        'max_iter': [300, 500]#Max training iterations\n",
    "    }\n",
    "}\n",
    "\n",
    "# Map model names to instances\n",
    "models = {\n",
    "    \"Logistic Regression\": LogisticRegression(),\n",
    "    \"MLP\": MLPClassifier()\n",
    "}\n",
    "\n",
    "# Create empty variables to hold each tuned grid object\n",
    "grid_lr = None\n",
    "grid_mlp = None\n",
    "\n",
    "# Loop through models for tuning and evaluation\n",
    "for name in models:\n",
    "    print(f\"\\n🔧 Tuning {name}...\")\n",
    "    grid = GridSearchCV(models[name], param_grids[name], cv=3, scoring='f1', n_jobs=-1, verbose=1)\n",
    "    grid.fit(X_train, y_train)\n",
    "\n",
    "    print(f\"✅ Best parameters for {name}: {grid.best_params_}\")\n",
    "    evaluate_and_store(f\"{name} (Tuned)\", grid.best_estimator_, X_train, y_train, X_test, y_test)\n",
    "\n",
    "# Store the grid object for later use\n",
    "    if name == \"Logistic Regression\":\n",
    "        grid_lr = grid\n",
    "    elif name == \"MLP\":\n",
    "        grid_mlp = grid\n"
   ]
  },
  {
   "cell_type": "code",
   "execution_count": null,
   "id": "a8a71707-e68d-4b0e-9fdd-93e582982984",
   "metadata": {},
   "outputs": [],
   "source": [
    "# Plot comparison\n",
    "import pandas as pd\n",
    "import seaborn as sns\n",
    "import matplotlib.pyplot as plt\n",
    "\n",
    "df = pd.DataFrame(results)\n",
    "df['Base Model'] = df['Model'].apply(lambda x: x.replace(\" (Tuned)\", \"\"))\n",
    "df = df.sort_values(by='Base Model')\n",
    "\n",
    "plt.figure(figsize=(12, 6))\n",
    "sns.barplot(data=df, x='Base Model', y='F1 Score', hue='Model', palette='Set2')\n",
    "plt.title(\"🔍 F1 Score Comparison: Normal vs Tuned Models\")\n",
    "plt.ylabel(\"F1 Score\")\n",
    "plt.xlabel(\"Model\")\n",
    "plt.xticks(rotation=45)\n",
    "plt.ylim(0, 1)\n",
    "plt.legend(title=\"Model Version\")\n",
    "plt.tight_layout()\n",
    "plt.show()\n"
   ]
  },
  {
   "cell_type": "code",
   "execution_count": null,
   "id": "10e10284-e2a7-40e5-aa7f-faafcede5f39",
   "metadata": {},
   "outputs": [],
   "source": [
    "from sklearn.ensemble import VotingClassifier\n",
    "\n",
    "# Step 1: Create the tuned models\n",
    "xgb_tuned = grid_xgb.best_estimator_\n",
    "mlp_tuned = grid_mlp.best_estimator_\n",
    "lr_tuned = grid_lr.best_estimator_\n",
    "\n",
    "# Step 2: Create a voting classifier with these models\n",
    "voting_clf = VotingClassifier(\n",
    "    estimators=[\n",
    "        ('xgb', xgb_tuned),\n",
    "        ('mlp', mlp_tuned),\n",
    "        ('lr', lr_tuned)\n",
    "    ],\n",
    "    voting='soft'  # soft uses predicted probabilities; better if models output probabilities\n",
    ")\n",
    "\n",
    "# Step 3: Fit the ensemble model\n",
    "voting_clf.fit(X_train, y_train)\n",
    "\n",
    "# Step 4: Evaluate the ensemble model using your custom function\n",
    "evaluate_and_store(\"Voting Classifier (XGB + MLP + LR)\", voting_clf, X_train, y_train, X_test, y_test)\n"
   ]
  },
  {
   "cell_type": "code",
   "execution_count": null,
   "id": "9ee6f369-8681-4aa6-819d-1f77e741bc58",
   "metadata": {},
   "outputs": [],
   "source": [
    "import joblib\n",
    "\n",
    "# Save the model and scaler after training\n",
    "joblib.dump(voting_clf, \"voting_classifier_model.pkl\")\n",
    "joblib.dump(scaler, \"scaler.pkl\")\n"
   ]
  }
 ],
 "metadata": {
  "kernelspec": {
   "display_name": "Python 3",
   "language": "python",
   "name": "python3"
  },
  "language_info": {
   "codemirror_mode": {
    "name": "ipython",
    "version": 3
   },
   "file_extension": ".py",
   "mimetype": "text/x-python",
   "name": "python",
   "nbconvert_exporter": "python",
   "pygments_lexer": "ipython3",
   "version": "3.13.2"
  }
 },
 "nbformat": 4,
 "nbformat_minor": 5
}
